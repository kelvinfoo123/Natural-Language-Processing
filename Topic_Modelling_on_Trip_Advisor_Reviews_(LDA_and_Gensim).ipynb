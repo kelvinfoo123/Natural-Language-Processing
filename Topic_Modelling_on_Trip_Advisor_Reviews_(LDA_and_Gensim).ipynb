{
  "nbformat": 4,
  "nbformat_minor": 0,
  "metadata": {
    "colab": {
      "provenance": [],
      "authorship_tag": "ABX9TyPiWfeYs6r+OXVZ8A67dLz8",
      "include_colab_link": true
    },
    "kernelspec": {
      "name": "python3",
      "display_name": "Python 3"
    },
    "language_info": {
      "name": "python"
    }
  },
  "cells": [
    {
      "cell_type": "markdown",
      "metadata": {
        "id": "view-in-github",
        "colab_type": "text"
      },
      "source": [
        "<a href=\"https://colab.research.google.com/github/kelvinfoo123/Natural-Language-Processing/blob/main/Topic_Modelling_on_Trip_Advisor_Reviews_(LDA_and_Gensim).ipynb\" target=\"_parent\"><img src=\"https://colab.research.google.com/assets/colab-badge.svg\" alt=\"Open In Colab\"/></a>"
      ]
    },
    {
      "cell_type": "code",
      "execution_count": 4,
      "metadata": {
        "id": "6qmT2mjrHvkh"
      },
      "outputs": [],
      "source": [
        "import numpy as np \n",
        "import pandas as pd\n",
        "import matplotlib.pyplot as plt \n",
        "\n",
        "import re \n",
        "import gensim \n",
        "import spacy \n",
        "from gensim.models import CoherenceModel \n",
        "from gensim.utils import simple_preprocess\n",
        "import gensim.corpora as corpora\n",
        "\n",
        "import nltk\n",
        "from nltk.corpus import stopwords "
      ]
    },
    {
      "cell_type": "code",
      "source": [
        "nltk.download('stopwords')\n",
        "stop_words = stopwords.words('english')\n",
        "stop_words.extend(['from', 'subject', 're', 'edu', 'use', 'not', 'would', 'say', 'could', '_', 'be', 'know', \n",
        "                   'good', 'go', 'get', 'do', 'done', 'try', 'many', 'some', 'nice', 'thank', 'think', 'see',\n",
        "                   'rather', 'easy', 'easily', 'lot', 'lack', 'make', 'want', 'seem', 'run', 'need', 'even', \n",
        "                   'right', 'line', 'even', 'also', 'may', 'take', 'come'])"
      ],
      "metadata": {
        "colab": {
          "base_uri": "https://localhost:8080/"
        },
        "id": "1G98zN8sKlih",
        "outputId": "194ca548-f143-4e7f-9df9-65b5e8906c79"
      },
      "execution_count": 5,
      "outputs": [
        {
          "output_type": "stream",
          "name": "stderr",
          "text": [
            "[nltk_data] Downloading package stopwords to /root/nltk_data...\n",
            "[nltk_data]   Unzipping corpora/stopwords.zip.\n"
          ]
        }
      ]
    },
    {
      "cell_type": "code",
      "source": [
        "df = pd.read_csv(\"review.csv\")\n",
        "df.head()"
      ],
      "metadata": {
        "colab": {
          "base_uri": "https://localhost:8080/",
          "height": 206
        },
        "id": "zWRqEXz8K6K9",
        "outputId": "a811f4b1-19d4-4e42-83d5-a33acea5cd53"
      },
      "execution_count": 7,
      "outputs": [
        {
          "output_type": "execute_result",
          "data": {
            "text/plain": [
              "                                              Review  Rating\n",
              "0  nice hotel expensive parking got good deal sta...       4\n",
              "1  ok nothing special charge diamond member hilto...       2\n",
              "2  nice rooms not 4* experience hotel monaco seat...       3\n",
              "3  unique, great stay, wonderful time hotel monac...       5\n",
              "4  great stay great stay, went seahawk game aweso...       5"
            ],
            "text/html": [
              "\n",
              "  <div id=\"df-38438009-c682-4098-a27a-f7ef72a12cac\">\n",
              "    <div class=\"colab-df-container\">\n",
              "      <div>\n",
              "<style scoped>\n",
              "    .dataframe tbody tr th:only-of-type {\n",
              "        vertical-align: middle;\n",
              "    }\n",
              "\n",
              "    .dataframe tbody tr th {\n",
              "        vertical-align: top;\n",
              "    }\n",
              "\n",
              "    .dataframe thead th {\n",
              "        text-align: right;\n",
              "    }\n",
              "</style>\n",
              "<table border=\"1\" class=\"dataframe\">\n",
              "  <thead>\n",
              "    <tr style=\"text-align: right;\">\n",
              "      <th></th>\n",
              "      <th>Review</th>\n",
              "      <th>Rating</th>\n",
              "    </tr>\n",
              "  </thead>\n",
              "  <tbody>\n",
              "    <tr>\n",
              "      <th>0</th>\n",
              "      <td>nice hotel expensive parking got good deal sta...</td>\n",
              "      <td>4</td>\n",
              "    </tr>\n",
              "    <tr>\n",
              "      <th>1</th>\n",
              "      <td>ok nothing special charge diamond member hilto...</td>\n",
              "      <td>2</td>\n",
              "    </tr>\n",
              "    <tr>\n",
              "      <th>2</th>\n",
              "      <td>nice rooms not 4* experience hotel monaco seat...</td>\n",
              "      <td>3</td>\n",
              "    </tr>\n",
              "    <tr>\n",
              "      <th>3</th>\n",
              "      <td>unique, great stay, wonderful time hotel monac...</td>\n",
              "      <td>5</td>\n",
              "    </tr>\n",
              "    <tr>\n",
              "      <th>4</th>\n",
              "      <td>great stay great stay, went seahawk game aweso...</td>\n",
              "      <td>5</td>\n",
              "    </tr>\n",
              "  </tbody>\n",
              "</table>\n",
              "</div>\n",
              "      <button class=\"colab-df-convert\" onclick=\"convertToInteractive('df-38438009-c682-4098-a27a-f7ef72a12cac')\"\n",
              "              title=\"Convert this dataframe to an interactive table.\"\n",
              "              style=\"display:none;\">\n",
              "        \n",
              "  <svg xmlns=\"http://www.w3.org/2000/svg\" height=\"24px\"viewBox=\"0 0 24 24\"\n",
              "       width=\"24px\">\n",
              "    <path d=\"M0 0h24v24H0V0z\" fill=\"none\"/>\n",
              "    <path d=\"M18.56 5.44l.94 2.06.94-2.06 2.06-.94-2.06-.94-.94-2.06-.94 2.06-2.06.94zm-11 1L8.5 8.5l.94-2.06 2.06-.94-2.06-.94L8.5 2.5l-.94 2.06-2.06.94zm10 10l.94 2.06.94-2.06 2.06-.94-2.06-.94-.94-2.06-.94 2.06-2.06.94z\"/><path d=\"M17.41 7.96l-1.37-1.37c-.4-.4-.92-.59-1.43-.59-.52 0-1.04.2-1.43.59L10.3 9.45l-7.72 7.72c-.78.78-.78 2.05 0 2.83L4 21.41c.39.39.9.59 1.41.59.51 0 1.02-.2 1.41-.59l7.78-7.78 2.81-2.81c.8-.78.8-2.07 0-2.86zM5.41 20L4 18.59l7.72-7.72 1.47 1.35L5.41 20z\"/>\n",
              "  </svg>\n",
              "      </button>\n",
              "      \n",
              "  <style>\n",
              "    .colab-df-container {\n",
              "      display:flex;\n",
              "      flex-wrap:wrap;\n",
              "      gap: 12px;\n",
              "    }\n",
              "\n",
              "    .colab-df-convert {\n",
              "      background-color: #E8F0FE;\n",
              "      border: none;\n",
              "      border-radius: 50%;\n",
              "      cursor: pointer;\n",
              "      display: none;\n",
              "      fill: #1967D2;\n",
              "      height: 32px;\n",
              "      padding: 0 0 0 0;\n",
              "      width: 32px;\n",
              "    }\n",
              "\n",
              "    .colab-df-convert:hover {\n",
              "      background-color: #E2EBFA;\n",
              "      box-shadow: 0px 1px 2px rgba(60, 64, 67, 0.3), 0px 1px 3px 1px rgba(60, 64, 67, 0.15);\n",
              "      fill: #174EA6;\n",
              "    }\n",
              "\n",
              "    [theme=dark] .colab-df-convert {\n",
              "      background-color: #3B4455;\n",
              "      fill: #D2E3FC;\n",
              "    }\n",
              "\n",
              "    [theme=dark] .colab-df-convert:hover {\n",
              "      background-color: #434B5C;\n",
              "      box-shadow: 0px 1px 3px 1px rgba(0, 0, 0, 0.15);\n",
              "      filter: drop-shadow(0px 1px 2px rgba(0, 0, 0, 0.3));\n",
              "      fill: #FFFFFF;\n",
              "    }\n",
              "  </style>\n",
              "\n",
              "      <script>\n",
              "        const buttonEl =\n",
              "          document.querySelector('#df-38438009-c682-4098-a27a-f7ef72a12cac button.colab-df-convert');\n",
              "        buttonEl.style.display =\n",
              "          google.colab.kernel.accessAllowed ? 'block' : 'none';\n",
              "\n",
              "        async function convertToInteractive(key) {\n",
              "          const element = document.querySelector('#df-38438009-c682-4098-a27a-f7ef72a12cac');\n",
              "          const dataTable =\n",
              "            await google.colab.kernel.invokeFunction('convertToInteractive',\n",
              "                                                     [key], {});\n",
              "          if (!dataTable) return;\n",
              "\n",
              "          const docLinkHtml = 'Like what you see? Visit the ' +\n",
              "            '<a target=\"_blank\" href=https://colab.research.google.com/notebooks/data_table.ipynb>data table notebook</a>'\n",
              "            + ' to learn more about interactive tables.';\n",
              "          element.innerHTML = '';\n",
              "          dataTable['output_type'] = 'display_data';\n",
              "          await google.colab.output.renderOutput(dataTable, element);\n",
              "          const docLink = document.createElement('div');\n",
              "          docLink.innerHTML = docLinkHtml;\n",
              "          element.appendChild(docLink);\n",
              "        }\n",
              "      </script>\n",
              "    </div>\n",
              "  </div>\n",
              "  "
            ]
          },
          "metadata": {},
          "execution_count": 7
        }
      ]
    },
    {
      "cell_type": "code",
      "source": [
        "print(\"Number of reviews: \", df.shape[0])"
      ],
      "metadata": {
        "colab": {
          "base_uri": "https://localhost:8080/"
        },
        "id": "jzdI_wm1LBOV",
        "outputId": "e09f9f04-e0ed-4c19-99c5-53692728b292"
      },
      "execution_count": 9,
      "outputs": [
        {
          "output_type": "stream",
          "name": "stdout",
          "text": [
            "Number of reviews:  20491\n"
          ]
        }
      ]
    },
    {
      "cell_type": "code",
      "source": [
        "# Just consider 5000 reviews due to time constraints \n",
        "df = df[0:5000]"
      ],
      "metadata": {
        "id": "gbB_cQXtLI9y"
      },
      "execution_count": 10,
      "outputs": []
    },
    {
      "cell_type": "markdown",
      "source": [
        "## **Tokenize and clean sentences**"
      ],
      "metadata": {
        "id": "RU38MU9qLRcT"
      }
    },
    {
      "cell_type": "code",
      "source": [
        "def tokenize(sentence): \n",
        "  for sent in sentence: \n",
        "    sent = re.sub('\\S*@\\S*\\s?', '', sent) # remove emails \n",
        "    sent = re.sub('\\s+', '', sent) # remove newline chars \n",
        "    sent = re.sub(\"\\'\", '', sent) # remove single quotes \n",
        "    sent = gensim.utils.simple_preprocess(str(sent), deacc = True) # Convert into a list of tokens \n",
        "    yield(sent)"
      ],
      "metadata": {
        "id": "Kv2f9T-xLe3O"
      },
      "execution_count": 11,
      "outputs": []
    },
    {
      "cell_type": "code",
      "source": [
        "data = df.Review.values.tolist()\n",
        "data_words = list(tokenize(data))\n",
        "print(data_words[:3]) # Tokens for first 3 reviews "
      ],
      "metadata": {
        "colab": {
          "base_uri": "https://localhost:8080/"
        },
        "id": "dczQfb3tM3dB",
        "outputId": "2a3c872c-77b1-4800-ff58-95a40be0de73"
      },
      "execution_count": 16,
      "outputs": [
        {
          "output_type": "stream",
          "name": "stdout",
          "text": [
            "[['checkquickeasy', 'parkingnight'], ['gotkidding', 'hours', 'bedscomfortable', 'notgoodac', 'heatcontrol', 'thisnot'], ['niceroomsnot', 'level', 'missed', 'nightgot', 'gotroomnightno', 'stdropdesk', 'askedwakeup', 'calledlater']]\n"
          ]
        }
      ]
    },
    {
      "cell_type": "markdown",
      "source": [
        "## **Lemmatize and build bigram, trigram models**\n",
        "\n",
        "- min_count ignore all words and bigrams with total collected count lower than this.\n",
        "- threshold represents a threshold for forming the phrases (higher means fewer phrases). A phrase of words a and b is accepted if (cnt(a, b) - min_count) * N / (cnt(a) * cnt(b)) > threshold, where N is the total vocabulary size."
      ],
      "metadata": {
        "id": "57XUjXxBNcLR"
      }
    },
    {
      "cell_type": "code",
      "source": [
        "bigram = gensim.models.Phrases(data_words, min_count = 5, threshold = 100)\n",
        "trigram = gensim.models.Phrases(bigram[data_words], threshold = 100)"
      ],
      "metadata": {
        "colab": {
          "base_uri": "https://localhost:8080/"
        },
        "id": "lPHP96ZkNjY0",
        "outputId": "b48f0cf5-4223-45ae-b0c2-ab5905405c89"
      },
      "execution_count": 18,
      "outputs": [
        {
          "output_type": "stream",
          "name": "stderr",
          "text": [
            "/usr/local/lib/python3.8/dist-packages/gensim/models/phrases.py:598: UserWarning: For a faster implementation, use the gensim.models.phrases.Phraser class\n",
            "  warnings.warn(\"For a faster implementation, use the gensim.models.phrases.Phraser class\")\n"
          ]
        }
      ]
    },
    {
      "cell_type": "code",
      "source": [
        "bigram_mod = gensim.models.phrases.Phraser(bigram)\n",
        "trigram_mod = gensim.models.phrases.Phraser(trigram)"
      ],
      "metadata": {
        "id": "EjmAOgajQBIN"
      },
      "execution_count": 21,
      "outputs": []
    },
    {
      "cell_type": "code",
      "source": [
        "nlp = spacy.load('en_core_web_sm')\n",
        "\n",
        "def process(text, stop_words = stop_words, allowed_posttags = ['NOUN', 'ADJ', 'VERB', 'ADV']): \n",
        "  text = [[word for word in simple_preprocess(str(doc)) if word not in stop_words] for doc in text]\n",
        "  text = [bigram_mod[doc] for doc in text]\n",
        "  text = [trigram_mod[bigram_mod[doc]] for doc in text]\n",
        "\n",
        "  text_out = []\n",
        "  for sent in text: \n",
        "    doc = nlp(\" \".join(sent))\n",
        "    text_out.append([token.lemma_ for token in doc if token.pos_ in allowed_posttags])\n",
        "\n",
        "  text_out = [[word for word in simple_preprocess(str(doc)) if word not in stop_words] for doc in text_out]\n",
        "  return text_out "
      ],
      "metadata": {
        "id": "N0va37gJQnnV"
      },
      "execution_count": 28,
      "outputs": []
    },
    {
      "cell_type": "code",
      "source": [
        "data_ready = process(data_words)"
      ],
      "metadata": {
        "id": "p-mdvalgRPng"
      },
      "execution_count": 29,
      "outputs": []
    },
    {
      "cell_type": "markdown",
      "source": [
        "## **Latent Dirichlet Allocation**"
      ],
      "metadata": {
        "id": "InuIiFR9S9t6"
      }
    },
    {
      "cell_type": "code",
      "source": [
        "# Create dictionary \n",
        "dictionary = corpora.Dictionary(data_ready)"
      ],
      "metadata": {
        "id": "IaOVZRVSTBRp"
      },
      "execution_count": 30,
      "outputs": []
    },
    {
      "cell_type": "code",
      "source": [
        "# Create term document frequency \n",
        "corpus = [dictionary.doc2bow(text) for text in data_ready]"
      ],
      "metadata": {
        "id": "tlqCk_iGUspj"
      },
      "execution_count": 32,
      "outputs": []
    },
    {
      "cell_type": "code",
      "source": [
        "# Build LDA model \n",
        "lda_model = gensim.models.ldamodel.LdaModel(corpus=corpus,\n",
        "                                           id2word=dictionary,\n",
        "                                           num_topics=4, \n",
        "                                           random_state=100,\n",
        "                                           update_every=1,\n",
        "                                           chunksize=10,\n",
        "                                           passes=10,\n",
        "                                           alpha='symmetric',\n",
        "                                           iterations=100,\n",
        "                                           per_word_topics=True)"
      ],
      "metadata": {
        "id": "oDIQl-ssVDMY"
      },
      "execution_count": 33,
      "outputs": []
    },
    {
      "cell_type": "code",
      "source": [
        "from pprint import pprint \n",
        "pprint(lda_model.print_topics())"
      ],
      "metadata": {
        "colab": {
          "base_uri": "https://localhost:8080/"
        },
        "id": "qCiyNz4pVO5O",
        "outputId": "a5ac182d-8d3b-4f78-d2e0-bad382c175b0"
      },
      "execution_count": 34,
      "outputs": [
        {
          "output_type": "stream",
          "name": "stdout",
          "text": [
            "[(0,\n",
            "  '0.024*\"star\" + 0.019*\"room\" + 0.010*\"starhotel\" + 0.008*\"spend\" + '\n",
            "  '0.008*\"lovedplace\" + 0.008*\"min\" + 0.008*\"time\" + 0.006*\"highlyrecommend\" + '\n",
            "  '0.005*\"morning\" + 0.005*\"travel\"'),\n",
            " (1,\n",
            "  '0.013*\"hotel\" + 0.012*\"love\" + 0.011*\"rd\" + 0.009*\"com\" + '\n",
            "  '0.009*\"stafffriendly\" + 0.009*\"check\" + 0.007*\"defintelystay\" + '\n",
            "  '0.006*\"nightstay\" + 0.005*\"excellent\" + 0.005*\"fun\"'),\n",
            " (2,\n",
            "  '0.016*\"euro\" + 0.008*\"minutewalkaway\" + 0.007*\"enjoy\" + 0.007*\"pay\" + '\n",
            "  '0.007*\"euros\" + 0.007*\"arrive\" + 0.006*\"nicehotel\" + 0.006*\"breakfast\" + '\n",
            "  '0.005*\"roomservice\" + 0.005*\"hour\"'),\n",
            " (3,\n",
            "  '0.043*\"night\" + 0.029*\"stay\" + 0.013*\"perfectlocation\" + 0.012*\"minute\" + '\n",
            "  '0.012*\"day\" + 0.009*\"wonderful\" + 0.009*\"fabulous\" + 0.009*\"great\" + '\n",
            "  '0.009*\"pm\" + 0.008*\"definitelystay\"')]\n"
          ]
        }
      ]
    },
    {
      "cell_type": "markdown",
      "source": [
        "## **Visualization of topic**"
      ],
      "metadata": {
        "id": "bGXBOwd7WLwO"
      }
    },
    {
      "cell_type": "code",
      "source": [
        "import pyLDAvis\n",
        "import pyLDAvis.gensim_models as gensimvis \n",
        "pyLDAvis.enable_notebook()"
      ],
      "metadata": {
        "id": "3YYrpAivWLfo"
      },
      "execution_count": 39,
      "outputs": []
    },
    {
      "cell_type": "code",
      "source": [
        "vis = gensimvis.prepare(lda_model, corpus, dictionary = lda_model.id2word)\n",
        "vis"
      ],
      "metadata": {
        "colab": {
          "base_uri": "https://localhost:8080/",
          "height": 899
        },
        "id": "2Cmf80POW5hu",
        "outputId": "3598ec7b-6aba-4a5a-81f0-3b66feac6a10"
      },
      "execution_count": 40,
      "outputs": [
        {
          "output_type": "stream",
          "name": "stderr",
          "text": [
            "/usr/local/lib/python3.8/dist-packages/pyLDAvis/_prepare.py:246: FutureWarning: In a future version of pandas all arguments of DataFrame.drop except for the argument 'labels' will be keyword-only\n",
            "  default_term_info = default_term_info.sort_values(\n"
          ]
        },
        {
          "output_type": "execute_result",
          "data": {
            "text/plain": [
              "PreparedData(topic_coordinates=              x         y  topics  cluster       Freq\n",
              "topic                                                \n",
              "3     -0.137507  0.054655       1        1  27.148283\n",
              "0      0.017352 -0.146445       2        1  25.705281\n",
              "2     -0.007586  0.012332       3        1  25.260917\n",
              "1      0.127741  0.079459       4        1  21.885518, topic_info=               Term        Freq       Total Category  logprob  loglift\n",
              "30            night  182.000000  182.000000  Default  30.0000  30.0000\n",
              "59             stay  121.000000  121.000000  Default  29.0000  29.0000\n",
              "382            star   95.000000   95.000000  Default  28.0000  28.0000\n",
              "19             room   77.000000   77.000000  Default  27.0000  27.0000\n",
              "9067           euro   62.000000   62.000000  Default  26.0000  26.0000\n",
              "...             ...         ...         ...      ...      ...      ...\n",
              "9666     nightswish   15.499488   16.776634   Topic4  -5.3877   1.4402\n",
              "9667  roomntperfect   15.499488   16.776634   Topic4  -5.3877   1.4402\n",
              "5154       roomhuge   14.253814   15.384270   Topic4  -5.4715   1.4430\n",
              "9633       easyfoot   13.641262   14.737480   Topic4  -5.5154   1.4421\n",
              "9658   smokerchecke   14.758324   16.906339   Topic4  -5.4367   1.3835\n",
              "\n",
              "[180 rows x 6 columns], token_table=      Topic      Freq             Term\n",
              "term                                  \n",
              "1163      3  0.972992            adult\n",
              "9611      1  0.940630         ammonday\n",
              "9566      3  0.900691      aohgoodness\n",
              "9627      1  0.925825        apartment\n",
              "9588      1  0.951310          armoire\n",
              "...     ...       ...              ...\n",
              "9660      2  0.875672  wontreturnhotel\n",
              "9660      3  0.051510  wontreturnhotel\n",
              "9660      4  0.051510  wontreturnhotel\n",
              "9294      4  0.938682      worthafford\n",
              "205       2  0.915722             year\n",
              "\n",
              "[181 rows x 3 columns], R=30, lambda_step=0.01, plot_opts={'xlab': 'PC1', 'ylab': 'PC2'}, topic_order=[4, 1, 3, 2])"
            ],
            "text/html": [
              "\n",
              "<link rel=\"stylesheet\" type=\"text/css\" href=\"https://cdn.jsdelivr.net/gh/bmabey/pyLDAvis@3.3.1/pyLDAvis/js/ldavis.v1.0.0.css\">\n",
              "\n",
              "\n",
              "<div id=\"ldavis_el1031400247340487684260184317\"></div>\n",
              "<script type=\"text/javascript\">\n",
              "\n",
              "var ldavis_el1031400247340487684260184317_data = {\"mdsDat\": {\"x\": [-0.13750709502348157, 0.01735218605148091, -0.0075859878720273425, 0.12774089684402812], \"y\": [0.05465493282519025, -0.14644520278513276, 0.012331518331852745, 0.07945875162808973], \"topics\": [1, 2, 3, 4], \"cluster\": [1, 1, 1, 1], \"Freq\": [27.148283385206046, 25.70528087553247, 25.260917465884305, 21.88551827337718]}, \"tinfo\": {\"Term\": [\"night\", \"stay\", \"star\", \"room\", \"euro\", \"perfectlocation\", \"hotel\", \"minute\", \"day\", \"love\", \"starhotel\", \"rd\", \"wonderful\", \"fabulous\", \"great\", \"pm\", \"com\", \"definitelystay\", \"stafffriendly\", \"check\", \"spend\", \"lovedplace\", \"min\", \"minutewalkaway\", \"time\", \"enjoy\", \"pay\", \"euros\", \"defintelystay\", \"arrive\", \"night\", \"stay\", \"minute\", \"day\", \"perfectlocation\", \"wonderful\", \"pm\", \"great\", \"definitelystay\", \"fabulous\", \"notdisappointe\", \"perfect\", \"justreturne\", \"recommendhotel\", \"person\", \"price\", \"hotelnice\", \"change\", \"ammonday\", \"eurospersonwine\", \"roomnumber\", \"veryquietstaye\", \"happyhotel\", \"visitflorence\", \"locationnotbeat\", \"desk\", \"armoire\", \"eurodiscount\", \"mail\", \"floorhearmusic\", \"eurooppose\", \"dayssignleft\", \"eurosnearly\", \"hugebalconynice\", \"apartment\", \"mistake\", \"lovedhotel\", \"star\", \"room\", \"starhotel\", \"spend\", \"min\", \"time\", \"highlyrecommend\", \"lovedplace\", \"morning\", \"travel\", \"restaurant\", \"definitely\", \"walk\", \"starrate\", \"staffamaze\", \"milesaway\", \"midnight\", \"minsuffizi\", \"minswalkduomo\", \"year\", \"checkin\", \"stayedflorence\", \"thecheck\", \"solid\", \"problem\", \"clean\", \"friendsoctober\", \"book\", \"doorsstreet\", \"downservice\", \"payviewfacility\", \"status\", \"theroomgood\", \"wontreturnhotel\", \"nightsmidaugust\", \"child\", \"staydoubt\", \"euro\", \"enjoy\", \"pay\", \"arrive\", \"euros\", \"minutewalkaway\", \"hour\", \"breakfast\", \"recommend\", \"shower\", \"nicehotel\", \"adult\", \"locationgreat\", \"month\", \"notch\", \"germain\", \"nopool\", \"gymnotgreat\", \"rightriver\", \"didntpartake\", \"quiettoo\", \"spotless\", \"cost\", \"minswalkaway\", \"largebritish\", \"recently\", \"aohgoodness\", \"mealtrulytreat\", \"thinktudorsuite\", \"wentbarpre\", \"icantwait\", \"wonderulplace\", \"negativethink\", \"thfloorcity\", \"roomservice\", \"old\", \"tub\", \"noexception\", \"nocrowd\", \"hr\", \"hotel\", \"love\", \"rd\", \"stafffriendly\", \"check\", \"com\", \"defintelystay\", \"excellent\", \"nightstay\", \"fun\", \"worthafford\", \"train\", \"busyfast\", \"florencewalk\", \"hotelmiddle\", \"opendinner\", \"widevarietyfood\", \"notstay\", \"helpful\", \"beautiful\", \"ittwo\", \"thfloornolift\", \"nightsweek\", \"definiatelystay\", \"nightshappystay\", \"walkingdistance\", \"tipwalk\", \"eurtod\", \"sshoe\", \"kate\", \"please\", \"nightswish\", \"roomntperfect\", \"roomhuge\", \"easyfoot\", \"smokerchecke\"], \"Freq\": [182.0, 121.0, 95.0, 77.0, 62.0, 53.0, 44.0, 51.0, 50.0, 41.0, 41.0, 36.0, 39.0, 39.0, 38.0, 37.0, 31.0, 36.0, 30.0, 29.0, 33.0, 33.0, 32.0, 32.0, 31.0, 29.0, 29.0, 28.0, 24.0, 26.0, 182.25332450588192, 120.51672936654938, 50.37010100557488, 49.542040702421474, 52.69156217978304, 38.90076602549591, 37.07190475157328, 37.48388685796584, 35.57675736397527, 38.82001900504257, 27.10906755864538, 27.393649898310542, 22.446939402187674, 21.886891069298443, 17.02698362016292, 19.136879377274926, 12.889489845116765, 14.157861262068876, 14.13286864949427, 14.13286864949427, 14.13286864949427, 14.13286864949427, 19.085290567990135, 19.085290567990135, 16.701814350648643, 12.853103757468977, 12.853102778479883, 12.853102778479883, 13.416015633457459, 13.362173191278833, 17.270409258326403, 17.269520336229267, 15.801230535429472, 15.800775305500874, 15.115129524805857, 16.719209028866572, 23.8620368095671, 94.62093361399758, 77.29972196270518, 41.18068437309724, 32.88735225800737, 31.374772184722215, 30.369624861837703, 25.189007335988013, 32.1813920752535, 21.268994326434495, 21.217057135603053, 17.58438480359181, 15.828466523740081, 14.94548885889611, 13.620426794164349, 19.376502461925593, 19.375443881309323, 19.331391354857896, 19.31883484607684, 19.31883484607684, 12.417708654684914, 16.214121717326698, 16.194004977804585, 13.216316888240355, 16.794626192753977, 15.648211193933152, 12.888317260110188, 14.694659943082545, 9.041198000558508, 12.368025814167625, 9.607917754142948, 14.593141876591774, 14.593141876591774, 17.316756713952824, 17.310968817833754, 16.54094874959033, 14.692834772125074, 13.87749132451875, 62.19051036880239, 29.18422785258253, 28.655473562116054, 26.05974815685074, 27.437016553454967, 31.196197065327866, 20.6071394247016, 23.94859697829578, 18.167166507295036, 18.903299284245307, 24.851996387555882, 18.805210433415215, 17.00256545181724, 15.339598702303984, 19.020907524893254, 13.733626056894424, 16.32941613812936, 16.32937241353018, 16.32937241353018, 13.72516625788199, 13.72516625788199, 13.791733316418947, 11.0150545683709, 11.56282905948125, 12.432979554780557, 12.432979554780557, 11.414178175272864, 11.414178175272864, 11.414178175272864, 11.414178175272864, 17.46531745981952, 17.46531745981952, 17.465465030341754, 17.465465030341754, 20.839320690070995, 17.133107064531362, 16.6625957620327, 15.84504231583192, 14.455442671329411, 14.66774472986685, 44.068742997978944, 40.659357871314114, 36.04678810609695, 29.787087563102553, 29.275714519321713, 30.45518499021525, 23.375091680602893, 17.771745127062687, 18.8242333645974, 16.658754509301033, 16.324667913687723, 15.212297614608836, 15.880200896179597, 15.880200896179597, 15.880200896179597, 15.880200896179597, 15.880200896179597, 12.79708129878427, 13.914111090869598, 10.863573219300484, 16.446352972747892, 16.446352972747892, 14.422180503599463, 16.39585461239725, 16.39585461239725, 16.39584829872109, 12.088067304103998, 13.743873862135255, 13.743873862135255, 11.583237596453984, 12.085940384447433, 15.499487802121065, 15.499487802121065, 14.253813701427665, 13.641262418755925, 14.758323779222053], \"Total\": [182.0, 121.0, 95.0, 77.0, 62.0, 53.0, 44.0, 51.0, 50.0, 41.0, 41.0, 36.0, 39.0, 39.0, 38.0, 37.0, 31.0, 36.0, 30.0, 29.0, 33.0, 33.0, 32.0, 32.0, 31.0, 29.0, 29.0, 28.0, 24.0, 26.0, 182.89250671168804, 121.15062032599863, 51.007282450043235, 50.18033593921709, 53.44509159460768, 39.53148391906028, 37.70337670449139, 38.12274227982477, 36.2260219082732, 39.559948933820436, 27.754353240055465, 28.05820144069014, 23.086694983132396, 22.523629312676228, 17.66221161034514, 19.859017862851104, 13.543720593393354, 14.905881706135526, 14.883645801178085, 14.883645801178085, 14.883645801178085, 14.883645801178085, 20.111800291170745, 20.111800291170745, 17.613013043024928, 13.66537332896128, 13.665372485198143, 13.665372485198143, 14.265330310382451, 14.256167410783977, 18.43612027384682, 18.436093969816035, 16.912998808831528, 16.91297118614629, 16.201769400506134, 18.087197425919655, 30.053617523316962, 95.25734306486743, 77.936479594282, 41.8136594938385, 33.529754531628086, 32.00934422183254, 31.022313359358282, 25.84253137916057, 33.041792811130485, 21.898671786805604, 21.854338481908627, 18.215829304677655, 16.45616327316496, 15.621060700070245, 14.268544495075053, 20.34912430062912, 20.34957213532845, 20.358332739481547, 20.346110332028793, 20.346110332028793, 13.104406806744743, 17.124721806170587, 17.116815337391206, 14.00493292129327, 17.86374941572466, 16.674112879450178, 13.76627574561974, 15.70130298848675, 9.66815484351192, 13.243694861651854, 10.301407296559221, 15.6953496399657, 15.6953496399657, 19.41415139673472, 19.413668226839672, 18.592239744228955, 16.644567707346788, 15.654502301571183, 62.85860608730945, 29.82704289502843, 29.303059783458487, 26.69564488395282, 28.147342219004187, 32.10942399927635, 21.23284203022943, 24.754534754097108, 18.79415733540231, 19.561512894458897, 25.72868442573806, 19.527405086948114, 17.666855034134063, 15.99109016788345, 19.838539064535272, 14.380347826925828, 17.17723209088671, 17.17722065446235, 17.17722065446235, 14.4758639990949, 14.4758639990949, 14.563830905554049, 11.663761009379627, 12.272638191257547, 13.28802672979896, 13.28802672979896, 12.212839416664108, 12.212839416664108, 12.212839416664108, 12.212839416664108, 18.701806559992672, 18.701806559992672, 18.701979213222522, 18.701979213222522, 22.811752580474664, 18.72079938086526, 18.71491431090655, 17.859642725645664, 16.383264807908457, 18.866679372486967, 44.74040775719663, 41.32145939067752, 36.79373095483864, 30.44690822871775, 29.937005801764784, 31.200129478534514, 24.087814292387595, 18.43225693007952, 19.538993885197804, 17.321278277604343, 17.045171436430724, 15.962354170123044, 16.71002227984223, 16.71002227984223, 16.71002227984223, 16.71002227984223, 16.71002227984223, 13.466413940466836, 14.725878414283468, 11.527484916027413, 17.473167058395354, 17.473167058395354, 15.355713374929406, 17.48202509799444, 17.48202509799444, 17.482026980311144, 12.945367525992928, 14.719549284460527, 14.719549284460527, 12.40574817535746, 12.947410266750259, 16.776634349552758, 16.776634349552758, 15.384270447784239, 14.737480033569028, 16.906339493174794], \"Category\": [\"Default\", \"Default\", \"Default\", \"Default\", \"Default\", \"Default\", \"Default\", \"Default\", \"Default\", \"Default\", \"Default\", \"Default\", \"Default\", \"Default\", \"Default\", \"Default\", \"Default\", \"Default\", \"Default\", \"Default\", \"Default\", \"Default\", \"Default\", \"Default\", \"Default\", \"Default\", \"Default\", \"Default\", \"Default\", \"Default\", \"Topic1\", \"Topic1\", \"Topic1\", \"Topic1\", \"Topic1\", \"Topic1\", \"Topic1\", \"Topic1\", \"Topic1\", \"Topic1\", \"Topic1\", \"Topic1\", \"Topic1\", \"Topic1\", \"Topic1\", \"Topic1\", \"Topic1\", \"Topic1\", \"Topic1\", \"Topic1\", \"Topic1\", \"Topic1\", \"Topic1\", \"Topic1\", \"Topic1\", \"Topic1\", \"Topic1\", \"Topic1\", \"Topic1\", \"Topic1\", \"Topic1\", \"Topic1\", \"Topic1\", \"Topic1\", \"Topic1\", \"Topic1\", \"Topic1\", \"Topic2\", \"Topic2\", \"Topic2\", \"Topic2\", \"Topic2\", \"Topic2\", \"Topic2\", \"Topic2\", \"Topic2\", \"Topic2\", \"Topic2\", \"Topic2\", \"Topic2\", \"Topic2\", \"Topic2\", \"Topic2\", \"Topic2\", \"Topic2\", \"Topic2\", \"Topic2\", \"Topic2\", \"Topic2\", \"Topic2\", \"Topic2\", \"Topic2\", \"Topic2\", \"Topic2\", \"Topic2\", \"Topic2\", \"Topic2\", \"Topic2\", \"Topic2\", \"Topic2\", \"Topic2\", \"Topic2\", \"Topic2\", \"Topic2\", \"Topic3\", \"Topic3\", \"Topic3\", \"Topic3\", \"Topic3\", \"Topic3\", \"Topic3\", \"Topic3\", \"Topic3\", \"Topic3\", \"Topic3\", \"Topic3\", \"Topic3\", \"Topic3\", \"Topic3\", \"Topic3\", \"Topic3\", \"Topic3\", \"Topic3\", \"Topic3\", \"Topic3\", \"Topic3\", \"Topic3\", \"Topic3\", \"Topic3\", \"Topic3\", \"Topic3\", \"Topic3\", \"Topic3\", \"Topic3\", \"Topic3\", \"Topic3\", \"Topic3\", \"Topic3\", \"Topic3\", \"Topic3\", \"Topic3\", \"Topic3\", \"Topic3\", \"Topic3\", \"Topic4\", \"Topic4\", \"Topic4\", \"Topic4\", \"Topic4\", \"Topic4\", \"Topic4\", \"Topic4\", \"Topic4\", \"Topic4\", \"Topic4\", \"Topic4\", \"Topic4\", \"Topic4\", \"Topic4\", \"Topic4\", \"Topic4\", \"Topic4\", \"Topic4\", \"Topic4\", \"Topic4\", \"Topic4\", \"Topic4\", \"Topic4\", \"Topic4\", \"Topic4\", \"Topic4\", \"Topic4\", \"Topic4\", \"Topic4\", \"Topic4\", \"Topic4\", \"Topic4\", \"Topic4\", \"Topic4\", \"Topic4\"], \"logprob\": [30.0, 29.0, 28.0, 27.0, 26.0, 25.0, 24.0, 23.0, 22.0, 21.0, 20.0, 19.0, 18.0, 17.0, 16.0, 15.0, 14.0, 13.0, 12.0, 11.0, 10.0, 9.0, 8.0, 7.0, 6.0, 5.0, 4.0, 3.0, 2.0, 1.0, -3.1386, -3.5522, -4.4246, -4.4411, -4.3795, -4.683, -4.7311, -4.7201, -4.7723, -4.685, -5.0441, -5.0337, -5.2328, -5.2581, -5.5092, -5.3923, -5.7876, -5.6937, -5.6955, -5.6955, -5.6955, -5.6955, -5.395, -5.395, -5.5284, -5.7904, -5.7904, -5.7904, -5.7475, -5.7515, -5.495, -5.495, -5.5839, -5.5839, -5.6283, -5.5274, -5.1717, -3.7395, -3.9417, -4.5714, -4.7963, -4.8433, -4.8759, -5.0629, -4.818, -5.2321, -5.2345, -5.4223, -5.5275, -5.5849, -5.6778, -5.3253, -5.3253, -5.3276, -5.3283, -5.3283, -5.7702, -5.5035, -5.5047, -5.7079, -5.4683, -5.539, -5.733, -5.6019, -6.0876, -5.7742, -6.0268, -5.6088, -5.6088, -5.4377, -5.438, -5.4835, -5.602, -5.6591, -4.1417, -4.8983, -4.9166, -5.0115, -4.96, -4.8316, -5.2463, -5.096, -5.3723, -5.3326, -5.059, -5.3378, -5.4385, -5.5415, -5.3264, -5.6521, -5.4789, -5.4789, -5.4789, -5.6527, -5.6527, -5.6478, -5.8726, -5.8241, -5.7516, -5.7516, -5.8371, -5.8371, -5.8371, -5.8371, -5.4117, -5.4117, -5.4117, -5.4117, -5.2351, -5.4309, -5.4587, -5.5091, -5.6008, -5.5863, -4.3427, -4.4232, -4.5437, -4.7344, -4.7517, -4.7122, -4.9768, -5.2509, -5.1933, -5.3155, -5.3358, -5.4064, -5.3634, -5.3634, -5.3634, -5.3634, -5.3634, -5.5793, -5.4956, -5.7431, -5.3284, -5.3284, -5.4597, -5.3314, -5.3314, -5.3314, -5.6363, -5.5079, -5.5079, -5.6789, -5.6364, -5.3877, -5.3877, -5.4715, -5.5154, -5.4367], \"loglift\": [30.0, 29.0, 28.0, 27.0, 26.0, 25.0, 24.0, 23.0, 22.0, 21.0, 20.0, 19.0, 18.0, 17.0, 16.0, 15.0, 14.0, 13.0, 12.0, 11.0, 10.0, 9.0, 8.0, 7.0, 6.0, 5.0, 4.0, 3.0, 2.0, 1.0, 1.3004, 1.2986, 1.2913, 1.2911, 1.2897, 1.2878, 1.287, 1.287, 1.2858, 1.285, 1.2803, 1.2799, 1.2758, 1.2752, 1.2672, 1.2668, 1.2543, 1.2524, 1.2521, 1.2521, 1.2521, 1.2521, 1.2515, 1.2515, 1.2507, 1.2426, 1.2426, 1.2426, 1.2425, 1.2391, 1.2385, 1.2385, 1.2359, 1.2358, 1.2344, 1.2252, 1.0732, 1.3518, 1.3503, 1.3432, 1.3391, 1.3385, 1.3372, 1.3329, 1.3321, 1.3293, 1.3289, 1.3232, 1.3196, 1.3143, 1.312, 1.3095, 1.3094, 1.3067, 1.3067, 1.3067, 1.3046, 1.3038, 1.3031, 1.3005, 1.2968, 1.295, 1.2926, 1.2922, 1.2914, 1.2901, 1.2888, 1.2857, 1.2857, 1.2441, 1.2438, 1.2416, 1.2337, 1.238, 1.3652, 1.3541, 1.3536, 1.3518, 1.3504, 1.3471, 1.346, 1.3428, 1.342, 1.3417, 1.3412, 1.3382, 1.3376, 1.3343, 1.3338, 1.3299, 1.3253, 1.3253, 1.3253, 1.3227, 1.3227, 1.3214, 1.3187, 1.3163, 1.3094, 1.3094, 1.3083, 1.3083, 1.3083, 1.3083, 1.3075, 1.3075, 1.3075, 1.3075, 1.2855, 1.2873, 1.2598, 1.2562, 1.2507, 1.1242, 1.5042, 1.5032, 1.4988, 1.4974, 1.497, 1.4952, 1.4893, 1.4829, 1.4821, 1.4803, 1.4762, 1.4712, 1.4684, 1.4684, 1.4684, 1.4684, 1.4684, 1.4684, 1.4626, 1.46, 1.4588, 1.4588, 1.4566, 1.4552, 1.4552, 1.4552, 1.4508, 1.4508, 1.4508, 1.4507, 1.4505, 1.4402, 1.4402, 1.443, 1.4421, 1.3835]}, \"token.table\": {\"Topic\": [3, 1, 3, 1, 1, 3, 4, 2, 3, 4, 1, 4, 2, 2, 3, 4, 2, 4, 3, 1, 1, 4, 2, 1, 4, 1, 3, 2, 2, 4, 3, 3, 1, 1, 3, 1, 1, 4, 4, 1, 1, 4, 2, 4, 3, 1, 3, 1, 4, 2, 4, 4, 1, 3, 2, 3, 4, 1, 3, 4, 1, 4, 3, 3, 1, 4, 1, 3, 2, 1, 3, 2, 2, 2, 2, 3, 2, 1, 3, 1, 2, 3, 2, 3, 3, 1, 4, 1, 2, 3, 4, 4, 4, 4, 1, 2, 3, 4, 1, 2, 3, 4, 3, 3, 1, 4, 2, 3, 4, 3, 2, 1, 1, 1, 4, 1, 1, 1, 2, 3, 4, 3, 3, 1, 2, 3, 2, 4, 4, 1, 1, 3, 3, 1, 2, 3, 4, 2, 2, 3, 4, 2, 4, 2, 2, 2, 2, 1, 1, 2, 3, 4, 2, 2, 1, 2, 3, 4, 3, 4, 3, 2, 4, 4, 2, 1, 3, 1, 1, 2, 4, 3, 4, 1, 3, 1, 2, 3, 4, 4, 2], \"Freq\": [0.9729915426755485, 0.9406297480481468, 0.9006914464944802, 0.9258248052543822, 0.9513095976038084, 0.9739416340389295, 0.9542411098457377, 0.9308911726873818, 0.9695193320499701, 0.9575091961009081, 0.9392265600925406, 0.9687007509044359, 0.9343217473018853, 0.9011949282034589, 0.060079661880230596, 0.060079661880230596, 0.9443367429376417, 0.9615344712155699, 0.9430920259043502, 0.9964062428869442, 0.9221042172942252, 0.9152257767800333, 0.9722800955731385, 0.9937607858559381, 0.9548396430168687, 0.9513095388655689, 0.9671270744789635, 0.9060915496284146, 0.9707411533315555, 0.9499588781875058, 0.9722720452731745, 0.9863406756726858, 0.9513095976038084, 0.9221029016672191, 0.9592379909237208, 0.9460179227142863, 0.9406297480481468, 0.9511160789943374, 0.976548887544307, 0.9858455597413138, 0.911886036787576, 0.9575091961009081, 0.9553347267420422, 0.9814518147878415, 0.9735508604170434, 0.9705492781294764, 0.9314661738273399, 0.944719006997159, 0.9507072927086375, 0.9673974903309981, 0.9834510279563214, 0.9575091961009081, 0.9598544144761387, 0.9890338735672817, 0.15901049362056055, 0.7950524681028027, 0.05300349787352018, 0.946019467774289, 0.9090030925871506, 0.9156897514072848, 0.9529298158993152, 0.9672935344469245, 0.9030686229046706, 0.9622538910946156, 0.9651954471658276, 0.9922205218446365, 0.7985727502314725, 0.1996431875578681, 0.9684704514344771, 0.9113003146193165, 0.9006914464944802, 0.9332787828520314, 0.933680564566491, 0.9684672008636747, 0.9338394263049999, 0.9777848750196383, 0.9338394263049999, 0.9802521835773201, 0.9654486483687358, 0.9398913275330506, 0.05528772514900298, 0.9380223513545088, 0.9589622696958693, 0.908994700837909, 0.9716781311597452, 0.9951200476841022, 0.9152257767800333, 0.05378588130084762, 0.9143599821144095, 0.05378588130084762, 0.05378588130084762, 0.9724144503875335, 0.9117127715379983, 0.8941006692680216, 0.0610378951768688, 0.0610378951768688, 0.8545305324761633, 0.0610378951768688, 0.055992161509706116, 0.055992161509706116, 0.8958745841552979, 0.055992161509706116, 0.9314655536667467, 0.9577318137284463, 0.9728203632226323, 0.9653646514559268, 0.053416522428102686, 0.9080808812777457, 0.9575091961009081, 0.98965774271704, 0.9556970914368735, 0.9622854856564137, 0.9916719836877856, 0.9625068691874766, 0.9268262728042791, 0.9813444639188617, 0.9567441920449646, 0.05997320560498536, 0.9595712896797658, 0.9671270744789635, 0.9784275490894664, 0.9030686229046706, 0.9577444563632355, 0.9767520009583212, 0.9881515520886973, 0.9314661738273399, 0.9879840660091771, 0.9100204034710263, 0.8941006692680216, 0.9406297480481468, 0.04383705269782442, 0.9205781066543127, 0.9712950170322484, 0.05914940962848326, 0.05914940962848326, 0.05914940962848326, 0.8872411444272489, 0.9516479214064468, 0.9842004649593131, 0.9612855361195504, 0.9511160789943374, 0.9337011126032873, 0.9853217205057221, 0.9972984438092906, 0.9805408207822996, 0.9811792649791473, 0.9556970914368735, 0.998756751508219, 0.06387938630917916, 0.8943114083285083, 0.06387938630917916, 0.06387938630917916, 0.9347533220767094, 0.92824436025928, 0.05150881846775907, 0.8756499139519043, 0.05150881846775907, 0.05150881846775907, 0.908994700837909, 0.9156897514072848, 0.9006914464944802, 0.9670458696127544, 0.9269725232524507, 0.939711012557014, 0.9609076027345389, 0.053433319724965386, 0.9083664353244116, 0.9406297480481468, 0.944719006997159, 0.9602420916226609, 0.9152256782362679, 0.9006914464944802, 0.9575091961009081, 0.9865554270578742, 0.9090030925871506, 0.05151010042591981, 0.8756717072406367, 0.05151010042591981, 0.05151010042591981, 0.9386822572991624, 0.9157224876309309], \"Term\": [\"adult\", \"ammonday\", \"aohgoodness\", \"apartment\", \"armoire\", \"arrive\", \"beautiful\", \"book\", \"breakfast\", \"busyfast\", \"change\", \"check\", \"checkin\", \"child\", \"child\", \"child\", \"clean\", \"com\", \"cost\", \"day\", \"dayssignleft\", \"definiatelystay\", \"definitely\", \"definitelystay\", \"defintelystay\", \"desk\", \"didntpartake\", \"doorsstreet\", \"downservice\", \"easyfoot\", \"enjoy\", \"euro\", \"eurodiscount\", \"eurooppose\", \"euros\", \"eurosnearly\", \"eurospersonwine\", \"eurtod\", \"excellent\", \"fabulous\", \"floorhearmusic\", \"florencewalk\", \"friendsoctober\", \"fun\", \"germain\", \"great\", \"gymnotgreat\", \"happyhotel\", \"helpful\", \"highlyrecommend\", \"hotel\", \"hotelmiddle\", \"hotelnice\", \"hour\", \"hr\", \"hr\", \"hr\", \"hugebalconynice\", \"icantwait\", \"ittwo\", \"justreturne\", \"kate\", \"largebritish\", \"locationgreat\", \"locationnotbeat\", \"love\", \"lovedhotel\", \"lovedhotel\", \"lovedplace\", \"mail\", \"mealtrulytreat\", \"midnight\", \"milesaway\", \"min\", \"minsuffizi\", \"minswalkaway\", \"minswalkduomo\", \"minute\", \"minutewalkaway\", \"mistake\", \"mistake\", \"month\", \"morning\", \"negativethink\", \"nicehotel\", \"night\", \"nightshappystay\", \"nightsmidaugust\", \"nightsmidaugust\", \"nightsmidaugust\", \"nightsmidaugust\", \"nightstay\", \"nightsweek\", \"nightswish\", \"nocrowd\", \"nocrowd\", \"nocrowd\", \"nocrowd\", \"noexception\", \"noexception\", \"noexception\", \"noexception\", \"nopool\", \"notch\", \"notdisappointe\", \"notstay\", \"old\", \"old\", \"opendinner\", \"pay\", \"payviewfacility\", \"perfect\", \"perfectlocation\", \"person\", \"please\", \"pm\", \"price\", \"problem\", \"problem\", \"quiettoo\", \"rd\", \"recently\", \"recommend\", \"recommendhotel\", \"restaurant\", \"rightriver\", \"room\", \"roomhuge\", \"roomntperfect\", \"roomnumber\", \"roomservice\", \"roomservice\", \"shower\", \"smokerchecke\", \"smokerchecke\", \"smokerchecke\", \"smokerchecke\", \"solid\", \"spend\", \"spotless\", \"sshoe\", \"staffamaze\", \"stafffriendly\", \"star\", \"starhotel\", \"starrate\", \"status\", \"stay\", \"staydoubt\", \"staydoubt\", \"staydoubt\", \"staydoubt\", \"stayedflorence\", \"thecheck\", \"theroomgood\", \"theroomgood\", \"theroomgood\", \"theroomgood\", \"thfloorcity\", \"thfloornolift\", \"thinktudorsuite\", \"time\", \"tipwalk\", \"train\", \"travel\", \"tub\", \"tub\", \"veryquietstaye\", \"visitflorence\", \"walk\", \"walkingdistance\", \"wentbarpre\", \"widevarietyfood\", \"wonderful\", \"wonderulplace\", \"wontreturnhotel\", \"wontreturnhotel\", \"wontreturnhotel\", \"wontreturnhotel\", \"worthafford\", \"year\"]}, \"R\": 30, \"lambda.step\": 0.01, \"plot.opts\": {\"xlab\": \"PC1\", \"ylab\": \"PC2\"}, \"topic.order\": [4, 1, 3, 2]};\n",
              "\n",
              "function LDAvis_load_lib(url, callback){\n",
              "  var s = document.createElement('script');\n",
              "  s.src = url;\n",
              "  s.async = true;\n",
              "  s.onreadystatechange = s.onload = callback;\n",
              "  s.onerror = function(){console.warn(\"failed to load library \" + url);};\n",
              "  document.getElementsByTagName(\"head\")[0].appendChild(s);\n",
              "}\n",
              "\n",
              "if(typeof(LDAvis) !== \"undefined\"){\n",
              "   // already loaded: just create the visualization\n",
              "   !function(LDAvis){\n",
              "       new LDAvis(\"#\" + \"ldavis_el1031400247340487684260184317\", ldavis_el1031400247340487684260184317_data);\n",
              "   }(LDAvis);\n",
              "}else if(typeof define === \"function\" && define.amd){\n",
              "   // require.js is available: use it to load d3/LDAvis\n",
              "   require.config({paths: {d3: \"https://d3js.org/d3.v5\"}});\n",
              "   require([\"d3\"], function(d3){\n",
              "      window.d3 = d3;\n",
              "      LDAvis_load_lib(\"https://cdn.jsdelivr.net/gh/bmabey/pyLDAvis@3.3.1/pyLDAvis/js/ldavis.v3.0.0.js\", function(){\n",
              "        new LDAvis(\"#\" + \"ldavis_el1031400247340487684260184317\", ldavis_el1031400247340487684260184317_data);\n",
              "      });\n",
              "    });\n",
              "}else{\n",
              "    // require.js not available: dynamically load d3 & LDAvis\n",
              "    LDAvis_load_lib(\"https://d3js.org/d3.v5.js\", function(){\n",
              "         LDAvis_load_lib(\"https://cdn.jsdelivr.net/gh/bmabey/pyLDAvis@3.3.1/pyLDAvis/js/ldavis.v3.0.0.js\", function(){\n",
              "                 new LDAvis(\"#\" + \"ldavis_el1031400247340487684260184317\", ldavis_el1031400247340487684260184317_data);\n",
              "            })\n",
              "         });\n",
              "}\n",
              "</script>"
            ]
          },
          "metadata": {},
          "execution_count": 40
        }
      ]
    }
  ]
}